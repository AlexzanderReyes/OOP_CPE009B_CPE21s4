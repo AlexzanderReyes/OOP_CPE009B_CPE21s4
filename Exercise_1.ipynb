{
  "nbformat": 4,
  "nbformat_minor": 0,
  "metadata": {
    "colab": {
      "provenance": [],
      "authorship_tag": "ABX9TyNe2Hf8vSvB2Gzehk/ram9O",
      "include_colab_link": true
    },
    "kernelspec": {
      "name": "python3",
      "display_name": "Python 3"
    },
    "language_info": {
      "name": "python"
    }
  },
  "cells": [
    {
      "cell_type": "markdown",
      "metadata": {
        "id": "view-in-github",
        "colab_type": "text"
      },
      "source": [
        "<a href=\"https://colab.research.google.com/github/AlexzanderReyes/OOP_CPE009B_CPE21s4/blob/main/Exercise_1.ipynb\" target=\"_parent\"><img src=\"https://colab.research.google.com/assets/colab-badge.svg\" alt=\"Open In Colab\"/></a>"
      ]
    },
    {
      "cell_type": "code",
      "execution_count": 18,
      "metadata": {
        "colab": {
          "base_uri": "https://localhost:8080/"
        },
        "id": "CWB6FNcuFg9X",
        "outputId": "d1e6e0ff-a695-4c43-830e-53cc4be18551"
      },
      "outputs": [
        {
          "output_type": "stream",
          "name": "stdout",
          "text": [
            "1\n"
          ]
        }
      ],
      "source": [
        "class Number:\n",
        "  def __init__(self, x):\n",
        "      self.x = x\n",
        "  x= 1\n",
        "  print(x)"
      ]
    },
    {
      "cell_type": "code",
      "source": [
        "class Person:\n",
        "  def __init__(self, name, age, birthdate):\n",
        "    self.name = name\n",
        "    self.age = age\n",
        "    self.birthdate = birthdate\n",
        "\n",
        "  def person_attributes(self):  #method constructor\n",
        "    return f\"My name is {self.name} and with an age of {self.age} and birthdate of {self.birthdate}\"\n",
        "class Teacher(Person): #subclass\n",
        "  pass\n",
        "class Student(Person):\n",
        "  pass  #subclass\n",
        "\n",
        "#subject instantiation\n",
        "person = Person(\"Hannia\", 16, \"December 13, 2007\")\n",
        "print(person.person_attributes())\n",
        "student = Student(\"Barong\", 25, \"October 1, 1913\")\n",
        "print(student.person_attributes())\n",
        "teacher = Teacher (\"Mam Sayo\", 40, \"June 24, 1983\")\n",
        "print(teacher.person_attributes())"
      ],
      "metadata": {
        "colab": {
          "base_uri": "https://localhost:8080/"
        },
        "id": "yURjjUIQIGzr",
        "outputId": "18178adc-7cbd-440a-fcde-19436d15caf8"
      },
      "execution_count": 47,
      "outputs": [
        {
          "output_type": "stream",
          "name": "stdout",
          "text": [
            "My name is Hannia and with an age of 16 and birthdate of December 13, 2007\n",
            "My name is Barong and with an age of 25 and birthdate of October 1, 1913\n",
            "My name is Mam Sayo and with an age of 40 and birthdate of June 24, 1983\n"
          ]
        }
      ]
    },
    {
      "cell_type": "markdown",
      "source": [
        "CHALLENGE PROBLEM"
      ],
      "metadata": {
        "id": "JbwNpmOaUCg3"
      }
    },
    {
      "cell_type": "code",
      "source": [
        "\n",
        "class Shapes:\n",
        "  def __init__(self,side1,side2):\n",
        "    self.side1 = side1\n",
        "    self.side2 = side2\n",
        "\n",
        "  def Perimeter(self):\n",
        "    return 2*(self.side1 + self.side2)\n",
        "\n",
        "  def Area(self):\n",
        "    return (self.side1 * self.side2)\n",
        "\n",
        "\n",
        "class Rectangle(Shapes):\n",
        "  pass\n",
        "\n",
        "class Square(Shapes):\n",
        "  pass\n",
        "\n",
        "rectangle = Rectangle(4,8)\n",
        "\n",
        "print(\"The perimeter of the rectangle is: \", rectangle.Perimeter())\n",
        "print(\"The area of the rectangle is: \", rectangle.Area())\n",
        "\n",
        "square = Square(10,10)\n",
        "print(\"The perimeter of the square is: \", square.Perimeter())\n",
        "print(\"The area of the square is: \", square.Area())\n"
      ],
      "metadata": {
        "colab": {
          "base_uri": "https://localhost:8080/"
        },
        "id": "Z4EVULsmUFCo",
        "outputId": "e284ffa0-09cd-4b91-abfc-8f7b1e8930da"
      },
      "execution_count": 71,
      "outputs": [
        {
          "output_type": "stream",
          "name": "stdout",
          "text": [
            "The perimeter of the rectangle is:  24\n",
            "The area of the rectangle is:  32\n",
            "The perimeter of the square is:  40\n",
            "The area of the square is:  100\n"
          ]
        }
      ]
    }
  ]
}