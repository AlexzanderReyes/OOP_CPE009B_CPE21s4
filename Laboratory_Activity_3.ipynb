{
  "nbformat": 4,
  "nbformat_minor": 0,
  "metadata": {
    "colab": {
      "provenance": [],
      "authorship_tag": "ABX9TyPJMCQUnmzkmg79hLTVIue8",
      "include_colab_link": true
    },
    "kernelspec": {
      "name": "python3",
      "display_name": "Python 3"
    },
    "language_info": {
      "name": "python"
    }
  },
  "cells": [
    {
      "cell_type": "markdown",
      "metadata": {
        "id": "view-in-github",
        "colab_type": "text"
      },
      "source": [
        "<a href=\"https://colab.research.google.com/github/AlexzanderReyes/OOP_CPE009B_CPE21s4/blob/main/Laboratory_Activity_3.ipynb\" target=\"_parent\"><img src=\"https://colab.research.google.com/assets/colab-badge.svg\" alt=\"Open In Colab\"/></a>"
      ]
    },
    {
      "cell_type": "code",
      "source": [
        "# Base Employee class\n",
        "class Employee:\n",
        "    def __init__(self, emp_id, emp_name, emp_address):\n",
        "        self.emp_id = emp_id\n",
        "        self.emp_name = emp_name\n",
        "        self.emp_address = emp_address\n",
        "\n",
        "    def calculate_salary(self, days_of_work):\n",
        "        pass\n",
        "\n",
        "    # Adding a method to return employee details\n",
        "    def get_employee_details(self):\n",
        "        return f\"ID: {self.emp_id}, Name: {self.emp_name}, Address: {self.emp_address}\"\n",
        "\n",
        "# FullTime Employee class manually calling Employee constructor\n",
        "class FullTime(Employee):\n",
        "    def __init__(self, emp_id, emp_name, emp_address, allowance, rate):\n",
        "\n",
        "        Employee.__init__(self, emp_id, emp_name, emp_address)\n",
        "        self.allowance = allowance\n",
        "        self.rate = rate\n",
        "\n",
        "    def calculate_salary(self, days_of_work):\n",
        "        return self.allowance + (self.rate * days_of_work)\n",
        "\n",
        "# PartTime Employee class manually calling Employee constructor\n",
        "class PartTime(Employee):\n",
        "    def __init__(self, emp_id, emp_name, emp_address, rate):\n",
        "\n",
        "        Employee.__init__(self, emp_id, emp_name, emp_address)\n",
        "        self.rate = rate\n",
        "\n",
        "    def calculate_salary(self, days_of_work):\n",
        "        return self.rate * days_of_work\n",
        "\n",
        "# Salary class to handle salary calculation for an employee\n",
        "class Salary:\n",
        "    def __init__(self, salary_id, employee, days_of_work):\n",
        "        self.salary_id = salary_id\n",
        "        self.employee = employee\n",
        "        self.days_of_work = days_of_work\n",
        "\n",
        "    def calculate_total_salary(self):\n",
        "        return self.employee.calculate_salary(self.days_of_work)\n",
        "\n",
        "# Example usage\n",
        "if __name__ == \"__main__\":\n",
        "    # Full-time employee example (Rigor Batumbakal)\n",
        "    full_time_emp = FullTime(emp_id=1294273, emp_name=\"Rigor Batumbakal\", emp_address=\"18 Kalayaan St.\", allowance=1000, rate=700)\n",
        "\n",
        "    # Part-time employee example (Pedro Penduko)\n",
        "    part_time_emp = PartTime(emp_id=876212, emp_name=\"Pedro Penduko\", emp_address=\"34 Maligaya St.\", rate=350)\n",
        "\n",
        "    # Salary calculations for a full-time employee (Rigor Batumbakal)\n",
        "    full_time_salary = Salary(salary_id=7623, employee=full_time_emp, days_of_work=24)\n",
        "\n",
        "    # Print full-time employee details\n",
        "    print(full_time_emp.get_employee_details())\n",
        "    print(f\"Full-time Employee (Rigor Batumbakal) Salary: {full_time_salary.calculate_total_salary()}\")\n",
        "\n",
        "    # Salary calculations for a part-time employee (Pedro Penduko)\n",
        "    part_time_salary = Salary(salary_id=121414, employee=part_time_emp, days_of_work=16)\n",
        "\n",
        "    # Print part-time employee details\n",
        "    print(part_time_emp.get_employee_details())\n",
        "    print(f\"Part-time Employee (Pedro Penduko) Salary: {part_time_salary.calculate_total_salary()}\")\n"
      ],
      "metadata": {
        "colab": {
          "base_uri": "https://localhost:8080/"
        },
        "id": "tqQbWA9fn6Zv",
        "outputId": "a4424452-b3d1-4f11-ad56-c885f9aa8c4e"
      },
      "execution_count": 2,
      "outputs": [
        {
          "output_type": "stream",
          "name": "stdout",
          "text": [
            "ID: 1294273, Name: Rigor Batumbakal, Address: 18 Kalayaan St.\n",
            "Full-time Employee (Rigor Batumbakal) Salary: 17800\n",
            "ID: 876212, Name: Pedro Penduko, Address: 34 Maligaya St.\n",
            "Part-time Employee (Pedro Penduko) Salary: 5600\n"
          ]
        }
      ]
    }
  ]
}